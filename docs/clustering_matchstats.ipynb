{
 "metadata": {
  "language_info": {
   "codemirror_mode": {
    "name": "ipython",
    "version": 3
   },
   "file_extension": ".py",
   "mimetype": "text/x-python",
   "name": "python",
   "nbconvert_exporter": "python",
   "pygments_lexer": "ipython3",
   "version": "3.7.6-final"
  },
  "orig_nbformat": 2,
  "kernelspec": {
   "name": "python3",
   "display_name": "Python 3.7.6 64-bit ('aflstats_venv')",
   "metadata": {
    "interpreter": {
     "hash": "7f14c6f9a1b9b003b939c5290abd2184a1eee089da2f4478428a0fc0ea95394a"
    }
   }
  }
 },
 "nbformat": 4,
 "nbformat_minor": 2,
 "cells": [
  {
   "cell_type": "code",
   "execution_count": 1,
   "metadata": {},
   "outputs": [],
   "source": [
    "import requests\n",
    "from bs4 import BeautifulSoup as bs"
   ]
  },
  {
   "cell_type": "code",
   "execution_count": null,
   "metadata": {},
   "outputs": [],
   "source": [
    "season_games_url = \"https://afltables.com/afl/seas/2020.html\"\n",
    "test_match_url = \"https://afltables.com/afl/stats/games/2020/031420200319.html#prog\""
   ]
  },
  {
   "cell_type": "code",
   "execution_count": 2,
   "metadata": {},
   "outputs": [
    {
     "output_type": "error",
     "ename": "NameError",
     "evalue": "name 'season_games_url' is not defined",
     "traceback": [
      "\u001b[1;31m---------------------------------------------------------------------------\u001b[0m",
      "\u001b[1;31mNameError\u001b[0m                                 Traceback (most recent call last)",
      "\u001b[1;32m<ipython-input-2-906b6f42c141>\u001b[0m in \u001b[0;36m<module>\u001b[1;34m\u001b[0m\n\u001b[1;32m----> 1\u001b[1;33m \u001b[0mspage\u001b[0m \u001b[1;33m=\u001b[0m \u001b[0mrequests\u001b[0m\u001b[1;33m.\u001b[0m\u001b[0mget\u001b[0m\u001b[1;33m(\u001b[0m\u001b[0mseason_games_url\u001b[0m\u001b[1;33m)\u001b[0m\u001b[1;33m\u001b[0m\u001b[1;33m\u001b[0m\u001b[0m\n\u001b[0m\u001b[0;32m      2\u001b[0m \u001b[0mssoup\u001b[0m \u001b[1;33m=\u001b[0m \u001b[0mbs\u001b[0m\u001b[1;33m(\u001b[0m\u001b[0mspage\u001b[0m\u001b[1;33m.\u001b[0m\u001b[0mcontent\u001b[0m\u001b[1;33m)\u001b[0m\u001b[1;33m\u001b[0m\u001b[1;33m\u001b[0m\u001b[0m\n",
      "\u001b[1;31mNameError\u001b[0m: name 'season_games_url' is not defined"
     ]
    }
   ],
   "source": [
    "spage = requests.get(season_games_url)\n",
    "ssoup = bs(spage.content)"
   ]
  },
  {
   "cell_type": "code",
   "execution_count": null,
   "metadata": {},
   "outputs": [],
   "source": [
    "round_num = 1\n",
    "for line in ssoup.find_all('table'):\n",
    "    round_str = line.text.split('Rnd')[0]\n",
    "    if round_str == f'Round {round_num}':\n",
    "        print(round_str)\n",
    "        round_num += 1"
   ]
  },
  {
   "cell_type": "code",
   "execution_count": null,
   "metadata": {},
   "outputs": [],
   "source": [
    "result = ssoup.find_all('table')[0+10].find_all('td')\n",
    "print(result[0].text)\n",
    "score_home = result[1].text.strip().split()[-1].split('.')\n",
    "print(score_home[0])\n",
    "print(score_home[1])\n",
    "print(result[2].text.strip())\n",
    "print(result[4].text)\n",
    "score_away = result[5].text.strip().split()[-1].split('.')\n",
    "print(score_away[0])\n",
    "print(score_away[1])\n",
    "print(result[6].text.strip())\n",
    "print(result[7].find('a')['href'])"
   ]
  },
  {
   "cell_type": "code",
   "execution_count": null,
   "metadata": {},
   "outputs": [],
   "source": [
    "result = ssoup.find_all('table')[0+3].find_all('td')\n",
    "len(result)\n",
    "# score_home = result[1].text.strip().split()[-1].split('.')\n",
    "# score_away = result[5].text.strip().split()[-1].split('.')\n",
    "# {\n",
    "#     result[0].text: (int(score_home[0]), int(score_home[1]), int(result[2].text.strip())),\n",
    "#     result[4].text: (int(score_away[0]), int(score_away[1]), int(result[6].text.strip())),\n",
    "#     'stats_link': \"https://afltables.com/afl/\" + result[7].find('a')['href'][3:]\n",
    "# }"
   ]
  },
  {
   "cell_type": "code",
   "execution_count": null,
   "metadata": {},
   "outputs": [],
   "source": [
    "page = requests.get(test_match_url)\n",
    "soup = bs(page.content)"
   ]
  },
  {
   "cell_type": "code",
   "execution_count": null,
   "metadata": {},
   "outputs": [],
   "source": [
    "relevant_headings = ['KI', 'MK', 'HB', 'DI', 'GL', 'BH', 'HO', 'TK', 'RB', 'IF', 'CL', 'CG', 'FF', 'FA']"
   ]
  },
  {
   "cell_type": "code",
   "execution_count": null,
   "metadata": {},
   "outputs": [],
   "source": [
    "in_heading = False\n",
    "headings = []\n",
    "for line in soup.find_all('th'):\n",
    "    if line.text == 'KI':\n",
    "        in_heading = True\n",
    "    if in_heading:\n",
    "        headings.append(line.text)\n",
    "        if line.text == '%P':\n",
    "            break\n",
    "\n",
    "headings_dict = {}\n",
    "for i, heading in enumerate(headings):\n",
    "    if heading in relevant_headings:\n",
    "        headings_dict[i] = heading\n",
    "\n",
    "headings_dict"
   ]
  },
  {
   "cell_type": "code",
   "execution_count": 10,
   "metadata": {},
   "outputs": [],
   "source": [
    "teams = soup.title.text.split(' - ')[1].split(' v ')"
   ]
  },
  {
   "cell_type": "code",
   "execution_count": 18,
   "metadata": {},
   "outputs": [
    {
     "output_type": "execute_result",
     "data": {
      "text/plain": [
       ",\n",
       " <b>12</b>,\n",
       " <b>9</b>,\n",
       " <b>26</b>,\n",
       " <b>23</b>,\n",
       " <b>29</b>,\n",
       " <b>54</b>,\n",
       " <b>32</b>,\n",
       " <b>51</b>,\n",
       " <b>24</b>,\n",
       " <b>18</b>,\n",
       " <b>1</b>,\n",
       " <b>126</b>,\n",
       " <b>173</b>,\n",
       " <b>7</b>,\n",
       " <b>12</b>,\n",
       " <b>44</b>,\n",
       " <b>5</b>,\n",
       " <b>Totals</b>,\n",
       " <b>26y 75d</b>,\n",
       " <b>2459 (1452-17-990 59.05%)</b>,\n",
       " <b>2071 (0.84)</b>,\n",
       " <b>Totals</b>,\n",
       " <b>25y 317d</b>,\n",
       " <b>2253 (749-13-1491 33.24%)</b>,\n",
       " <b>1133 (0.50)</b>,\n",
       " <b>1st quarter (28m 10s)<tr><td><b>Shane Edwards goal</b></td><td align=\"center\">1m 5s</td><td align=\"center\">1.0.<b>6</b> - 0.0.<b>0</b></td><td> </td><td> </td></tr><tr><td><b>Jason Castagna goal</b></td><td align=\"center\">3m 43s</td><td align=\"center\">2.0.<b>12</b> - 0.0.<b>0</b></td><td> </td><td> </td></tr><tr><td><b>Jack Riewoldt goal</b></td><td align=\"center\">7m 11s</td><td align=\"center\">3.0.<b>18</b> - 0.0.<b>0</b></td><td> </td><td> </td></tr><tr><td><b>Kane Lambert goal</b></td><td align=\"center\">10m 2s</td><td align=\"center\">4.0.<b>24</b> - 0.0.<b>0</b></td><td> </td><td> </td></tr><tr><td><b>Jack Riewoldt goal</b></td><td align=\"center\">12m 18s</td><td align=\"center\">5.0.<b>30</b> - 0.0.<b>0</b></td><td> </td><td> </td></tr><tr><td> </td><td> </td><td align=\"center\">5.0.<b>30</b> - 1.0.<b>6</b></td><td align=\"center\">13m 32s</td><td><b>David Cuningham goal</b></td></tr><tr><td>Jack Riewoldt behind</td><td align=\"center\">15m 21s</td><td align=\"center\">5.1.<b>31</b> - 1.0.<b>6</b></td><td> </td><td> </td></tr><tr><td>Trent Cotchin behind</td><td align=\"center\">16m 43s</td><td align=\"center\">5.2.<b>32</b> - 1.0.<b>6</b></td><td> </td><td> </td></tr><tr><td> </td><td> </td><td align=\"center\">5.2.<b>32</b> - 1.1.<b>7</b></td><td align=\"center\">17m 57s</td><td>Mitch McGovern behind</td></tr><tr><td> </td><td> </td><td align=\"center\">5.2.<b>32</b> - 2.1.<b>13</b></td><td align=\"center\">20m 42s</td><td><b>Levi Casboult goal</b></td></tr><tr><td><b>Jason Castagna goal</b></td><td align=\"center\">22m 16s</td><td align=\"center\">6.2.<b>38</b> - 2.1.<b>13</b></td><td> </td><td> </td></tr><tr><td><b>Shai Bolton goal</b></td><td align=\"center\">27m 4s</td><td align=\"center\">7.2.<b>44</b> - 2.1.<b>13</b></td><td> </td><td> </td></tr><tr><td align=\"center\" colspan=\"5\"><b>2nd quarter (24m 1s)<tr><td> </td><td> </td><td align=\"center\">7.2.<b>44</b> - 3.1.<b>19</b></td><td align=\"center\">1m 40s</td><td><b>Jack Silvagni goal</b></td></tr><tr><td> </td><td> </td><td align=\"center\">7.2.<b>44</b> - 3.2.<b>20</b></td><td align=\"center\">6m 13s</td><td>Jack Martin behind</td></tr><tr><td> </td><td> </td><td align=\"center\">7.2.<b>44</b> - 3.3.<b>21</b></td><td align=\"center\">8m 25s</td><td>Paddy Dow behind</td></tr><tr><td> </td><td> </td><td align=\"center\">7.2.<b>44</b> - 3.4.<b>22</b></td><td align=\"center\">9m 42s</td><td>Jack Silvagni behind</td></tr><tr><td>Tom Lynch behind</td><td align=\"center\">10m 23s</td><td align=\"center\">7.3.<b>45</b> - 3.4.<b>22</b></td><td> </td><td> </td></tr><tr><td><b>Daniel Rioli goal</b></td><td align=\"center\">14m 12s</td><td align=\"center\">8.3.<b>51</b> - 3.4.<b>22</b></td><td> </td><td> </td></tr><tr><td><b>Shai Bolton goal</b></td><td align=\"center\">17m 52s</td><td align=\"center\">9.3.<b>57</b> - 3.4.<b>22</b></td><td> </td><td> </td></tr><tr><td> </td><td> </td><td align=\"center\">9.3.<b>57</b> - 3.5.<b>23</b></td><td align=\"center\">20m 29s</td><td>Lachie Plowman behind</td></tr><tr><td><b>Jack Riewoldt goal</b></td><td align=\"center\">21m 21s</td><td align=\"center\">10.3.<b>63</b> - 3.5.<b>23</b></td><td> </td><td> </td></tr><tr><td><b>Dustin Martin goal</b></td><td align=\"center\">22m 35s</td><td align=\"center\">11.3.<b>69</b> - 3.5.<b>23</b></td><td> </td><td> </td></tr><tr><td align=\"center\" colspan=\"5\"><b>3rd quarter (27m 33s)<tr><td> </td><td> </td><td align=\"center\">11.3.<b>69</b> - 4.5.<b>29</b></td><td align=\"center\">1m 9s</td><td><b>Jack Martin goal</b></td></tr><tr><td> </td><td> </td><td align=\"center\">11.3.<b>69</b> - 4.6.<b>30</b></td><td align=\"center\">3m 50s</td><td><i>Rushed behind</i></td></tr><tr><td> </td><td> </td><td align=\"center\">11.3.<b>69</b> - 4.7.<b>31</b></td><td align=\"center\">5m 23s</td><td>Paddy Dow behind</td></tr><tr><td><b>Jason Castagna goal</b></td><td align=\"center\">9m 3s</td><td align=\"center\">12.3.<b>75</b> - 4.7.<b>31</b></td><td> </td><td> </td></tr><tr><td><b>Daniel Rioli goal</b></td><td align=\"center\">10m 35s</td><td align=\"center\">13.3.<b>81</b> - 4.7.<b>31</b></td><td> </td><td> </td></tr><tr><td> </td><td> </td><td align=\"center\">13.3.<b>81</b> - 5.7.<b>37</b></td><td align=\"center\">11m 53s</td><td><b>Jack Martin goal</b></td></tr><tr><td> </td><td> </td><td align=\"center\">13.3.<b>81</b> - 6.7.<b>43</b></td><td align=\"center\">13m 57s</td><td><b>David Cuningham goal</b></td></tr><tr><td>Trent Cotchin behind</td><td align=\"center\">18m 29s</td><td align=\"center\">13.4.<b>82</b> - 6.7.<b>43</b></td><td> </td><td> </td></tr><tr><td> </td><td> </td><td align=\"center\">13.4.<b>82</b> - 7.7.<b>49</b></td><td align=\"center\">20m 3s</td><td><b>Jack Martin goal</b></td></tr><tr><td><b>Dion Prestia goal</b></td><td align=\"center\">22m 22s</td><td align=\"center\">14.4.<b>88</b> - 7.7.<b>49</b></td><td> </td><td> </td></tr><tr><td><i>Rushed behind</i></td><td align=\"center\">23m 43s</td><td align=\"center\">14.5.<b>89</b> - 7.7.<b>49</b></td><td> </td><td> </td></tr><tr><td> </td><td> </td><td align=\"center\">14.5.<b>89</b> - 8.7.<b>55</b></td><td align=\"center\">25m 27s</td><td><b>Jack Martin goal</b></td></tr><tr><td align=\"center\" colspan=\"5\"><b>Final quarter (24m 54s)<tr><td> </td><td> </td><td align=\"center\">14.5.<b>89</b> - 9.7.<b>61</b></td><td align=\"center\">0m 54s</td><td><b>Levi Casboult goal</b></td></tr><tr><td> </td><td> </td><td align=\"center\">14.5.<b>89</b> - 9.8.<b>62</b></td><td align=\"center\">2m 4s</td><td>David Cuningham behind</td></tr><tr><td> </td><td> </td><td align=\"center\">14.5.<b>89</b> - 10.8.<b>68</b></td><td align=\"center\">4m 13s</td><td><b>Mitch McGovern goal</b></td></tr><tr><td> </td><td> </td><td align=\"center\">14.5.<b>89</b> - 11.8.<b>74</b></td><td align=\"center\">5m 46s</td><td><b>Jack Newnes goal</b></td></tr><tr><td>Dustin Martin behind</td><td align=\"center\">7m 1s</td><td align=\"center\">14.6.<b>90</b> - 11.8.<b>74</b></td><td> </td><td> </td></tr><tr><td><b>Shai Bolton goal</b></td><td align=\"center\">8m 57s</td><td align=\"center\">15.6.<b>96</b> - 11.8.<b>74</b></td><td> </td><td> </td></tr><tr><td>Ivan Soldo behind</td><td align=\"center\">11m 7s</td><td align=\"center\">15.7.<b>97</b> - 11.8.<b>74</b></td><td> </td><td> </td></tr><tr><td>Kane Lambert behind</td><td align=\"center\">12m 40s</td><td align=\"center\">15.8.<b>98</b> - 11.8.<b>74</b></td><td> </td><td> </td></tr><tr><td> </td><td> </td><td align=\"center\">15.8.<b>98</b> - 12.8.<b>80</b></td><td align=\"center\">17m 13s</td><td><b>Jack Silvagni goal</b></td></tr><tr><td> </td><td> </td><td align=\"center\">15.8.<b>98</b> - 12.9.<b>81</b></td><td align=\"center\">22m 34s</td><td>Liam Jones behind</td></tr><tr><td><b>Daniel Rioli goal</b></td><td align=\"center\">23m 47s</td><td align=\"center\">16.8.<b>104</b> - 12.9.<b>81</b></td><td> </td><td> </td></tr><tr><td>Shai Bolton behind</td><td align=\"center\">24m 49s</td><td align=\"center\">16.9.<b>105</b> - 12.9.<b>81</b></td><td> </td><td> </td></tr><tr><td> </td><td> </td><td align=\"center\"><b>Game time:104m 38s</b></td><td> </td><td> </td></tr></b></td></tr></b></td></tr></b></td></tr></b>,\n",
       " <b>Shane Edwards goal</b>,\n",
       " <b>6</b>,\n",
       " <b>0</b>,\n",
       " <b>Jason Castagna goal</b>,\n",
       " <b>12</b>,\n",
       " <b>0</b>,\n",
       " <b>Jack Riewoldt goal</b>,\n",
       " <b>18</b>,\n",
       " <b>0</b>,\n",
       " <b>Kane Lambert goal</b>,\n",
       " <b>24</b>,\n",
       " <b>0</b>,\n",
       " <b>Jack Riewoldt goal</b>,\n",
       " <b>30</b>,\n",
       " <b>0</b>,\n",
       " <b>30</b>,\n",
       " <b>6</b>,\n",
       " <b>David Cuningham goal</b>,\n",
       " <b>31</b>,\n",
       " <b>6</b>,\n",
       " <b>32</b>,\n",
       " <b>6</b>,\n",
       " <b>32</b>,\n",
       " <b>7</b>,\n",
       " <b>32</b>,\n",
       " <b>13</b>,\n",
       " <b>Levi Casboult goal</b>,\n",
       " <b>Jason Castagna goal</b>,\n",
       " <b>38</b>,\n",
       " <b>13</b>,\n",
       " <b>Shai Bolton goal</b>,\n",
       " <b>44</b>,\n",
       " <b>13</b>,\n",
       " <b>2nd quarter (24m 1s)<tr><td> </td><td> </td><td align=\"center\">7.2.<b>44</b> - 3.1.<b>19</b></td><td align=\"center\">1m 40s</td><td><b>Jack Silvagni goal</b></td></tr><tr><td> </td><td> </td><td align=\"center\">7.2.<b>44</b> - 3.2.<b>20</b></td><td align=\"center\">6m 13s</td><td>Jack Martin behind</td></tr><tr><td> </td><td> </td><td align=\"center\">7.2.<b>44</b> - 3.3.<b>21</b></td><td align=\"center\">8m 25s</td><td>Paddy Dow behind</td></tr><tr><td> </td><td> </td><td align=\"center\">7.2.<b>44</b> - 3.4.<b>22</b></td><td align=\"center\">9m 42s</td><td>Jack Silvagni behind</td></tr><tr><td>Tom Lynch behind</td><td align=\"center\">10m 23s</td><td align=\"center\">7.3.<b>45</b> - 3.4.<b>22</b></td><td> </td><td> </td></tr><tr><td><b>Daniel Rioli goal</b></td><td align=\"center\">14m 12s</td><td align=\"center\">8.3.<b>51</b> - 3.4.<b>22</b></td><td> </td><td> </td></tr><tr><td><b>Shai Bolton goal</b></td><td align=\"center\">17m 52s</td><td align=\"center\">9.3.<b>57</b> - 3.4.<b>22</b></td><td> </td><td> </td></tr><tr><td> </td><td> </td><td align=\"center\">9.3.<b>57</b> - 3.5.<b>23</b></td><td align=\"center\">20m 29s</td><td>Lachie Plowman behind</td></tr><tr><td><b>Jack Riewoldt goal</b></td><td align=\"center\">21m 21s</td><td align=\"center\">10.3.<b>63</b> - 3.5.<b>23</b></td><td> </td><td> </td></tr><tr><td><b>Dustin Martin goal</b></td><td align=\"center\">22m 35s</td><td align=\"center\">11.3.<b>69</b> - 3.5.<b>23</b></td><td> </td><td> </td></tr><tr><td align=\"center\" colspan=\"5\"><b>3rd quarter (27m 33s)<tr><td> </td><td> </td><td align=\"center\">11.3.<b>69</b> - 4.5.<b>29</b></td><td align=\"center\">1m 9s</td><td><b>Jack Martin goal</b></td></tr><tr><td> </td><td> </td><td align=\"center\">11.3.<b>69</b> - 4.6.<b>30</b></td><td align=\"center\">3m 50s</td><td><i>Rushed behind</i></td></tr><tr><td> </td><td> </td><td align=\"center\">11.3.<b>69</b> - 4.7.<b>31</b></td><td align=\"center\">5m 23s</td><td>Paddy Dow behind</td></tr><tr><td><b>Jason Castagna goal</b></td><td align=\"center\">9m 3s</td><td align=\"center\">12.3.<b>75</b> - 4.7.<b>31</b></td><td> </td><td> </td></tr><tr><td><b>Daniel Rioli goal</b></td><td align=\"center\">10m 35s</td><td align=\"center\">13.3.<b>81</b> - 4.7.<b>31</b></td><td> </td><td> </td></tr><tr><td> </td><td> </td><td align=\"center\">13.3.<b>81</b> - 5.7.<b>37</b></td><td align=\"center\">11m 53s</td><td><b>Jack Martin goal</b></td></tr><tr><td> </td><td> </td><td align=\"center\">13.3.<b>81</b> - 6.7.<b>43</b></td><td align=\"center\">13m 57s</td><td><b>David Cuningham goal</b></td></tr><tr><td>Trent Cotchin behind</td><td align=\"center\">18m 29s</td><td align=\"center\">13.4.<b>82</b> - 6.7.<b>43</b></td><td> </td><td> </td></tr><tr><td> </td><td> </td><td align=\"center\">13.4.<b>82</b> - 7.7.<b>49</b></td><td align=\"center\">20m 3s</td><td><b>Jack Martin goal</b></td></tr><tr><td><b>Dion Prestia goal</b></td><td align=\"center\">22m 22s</td><td align=\"center\">14.4.<b>88</b> - 7.7.<b>49</b></td><td> </td><td> </td></tr><tr><td><i>Rushed behind</i></td><td align=\"center\">23m 43s</td><td align=\"center\">14.5.<b>89</b> - 7.7.<b>49</b></td><td> </td><td> </td></tr><tr><td> </td><td> </td><td align=\"center\">14.5.<b>89</b> - 8.7.<b>55</b></td><td align=\"center\">25m 27s</td><td><b>Jack Martin goal</b></td></tr><tr><td align=\"center\" colspan=\"5\"><b>Final quarter (24m 54s)<tr><td> </td><td> </td><td align=\"center\">14.5.<b>89</b> - 9.7.<b>61</b></td><td align=\"center\">0m 54s</td><td><b>Levi Casboult goal</b></td></tr><tr><td> </td><td> </td><td align=\"center\">14.5.<b>89</b> - 9.8.<b>62</b></td><td align=\"center\">2m 4s</td><td>David Cuningham behind</td></tr><tr><td> </td><td> </td><td align=\"center\">14.5.<b>89</b> - 10.8.<b>68</b></td><td align=\"center\">4m 13s</td><td><b>Mitch McGovern goal</b></td></tr><tr><td> </td><td> </td><td align=\"center\">14.5.<b>89</b> - 11.8.<b>74</b></td><td align=\"center\">5m 46s</td><td><b>Jack Newnes goal</b></td></tr><tr><td>Dustin Martin behind</td><td align=\"center\">7m 1s</td><td align=\"center\">14.6.<b>90</b> - 11.8.<b>74</b></td><td> </td><td> </td></tr><tr><td><b>Shai Bolton goal</b></td><td align=\"center\">8m 57s</td><td align=\"center\">15.6.<b>96</b> - 11.8.<b>74</b></td><td> </td><td> </td></tr><tr><td>Ivan Soldo behind</td><td align=\"center\">11m 7s</td><td align=\"center\">15.7.<b>97</b> - 11.8.<b>74</b></td><td> </td><td> </td></tr><tr><td>Kane Lambert behind</td><td align=\"center\">12m 40s</td><td align=\"center\">15.8.<b>98</b> - 11.8.<b>74</b></td><td> </td><td> </td></tr><tr><td> </td><td> </td><td align=\"center\">15.8.<b>98</b> - 12.8.<b>80</b></td><td align=\"center\">17m 13s</td><td><b>Jack Silvagni goal</b></td></tr><tr><td> </td><td> </td><td align=\"center\">15.8.<b>98</b> - 12.9.<b>81</b></td><td align=\"center\">22m 34s</td><td>Liam Jones behind</td></tr><tr><td><b>Daniel Rioli goal</b></td><td align=\"center\">23m 47s</td><td align=\"center\">16.8.<b>104</b> - 12.9.<b>81</b></td><td> </td><td> </td></tr><tr><td>Shai Bolton behind</td><td align=\"center\">24m 49s</td><td align=\"center\">16.9.<b>105</b> - 12.9.<b>81</b></td><td> </td><td> </td></tr><tr><td> </td><td> </td><td align=\"center\"><b>Game time:104m 38s</b></td><td> </td><td> </td></tr></b></td></tr></b></td></tr></b>,\n",
       " <b>44</b>,\n",
       " <b>19</b>,\n",
       " <b>Jack Silvagni goal</b>,\n",
       " <b>44</b>,\n",
       " <b>20</b>,\n",
       " <b>44</b>,\n",
       " <b>21</b>,\n",
       " <b>44</b>,\n",
       " <b>22</b>,\n",
       " <b>45</b>,\n",
       " <b>22</b>,\n",
       " <b>Daniel Rioli goal</b>,\n",
       " <b>51</b>,\n",
       " <b>22</b>,\n",
       " <b>Shai Bolton goal</b>,\n",
       " <b>57</b>,\n",
       " <b>22</b>,\n",
       " <b>57</b>,\n",
       " <b>23</b>,\n",
       " <b>Jack Riewoldt goal</b>,\n",
       " <b>63</b>,\n",
       " <b>23</b>,\n",
       " <b>Dustin Martin goal</b>,\n",
       " <b>69</b>,\n",
       " <b>23</b>,\n",
       " <b>3rd quarter (27m 33s)<tr><td> </td><td> </td><td align=\"center\">11.3.<b>69</b> - 4.5.<b>29</b></td><td align=\"center\">1m 9s</td><td><b>Jack Martin goal</b></td></tr><tr><td> </td><td> </td><td align=\"center\">11.3.<b>69</b> - 4.6.<b>30</b></td><td align=\"center\">3m 50s</td><td><i>Rushed behind</i></td></tr><tr><td> </td><td> </td><td align=\"center\">11.3.<b>69</b> - 4.7.<b>31</b></td><td align=\"center\">5m 23s</td><td>Paddy Dow behind</td></tr><tr><td><b>Jason Castagna goal</b></td><td align=\"center\">9m 3s</td><td align=\"center\">12.3.<b>75</b> - 4.7.<b>31</b></td><td> </td><td> </td></tr><tr><td><b>Daniel Rioli goal</b></td><td align=\"center\">10m 35s</td><td align=\"center\">13.3.<b>81</b> - 4.7.<b>31</b></td><td> </td><td> </td></tr><tr><td> </td><td> </td><td align=\"center\">13.3.<b>81</b> - 5.7.<b>37</b></td><td align=\"center\">11m 53s</td><td><b>Jack Martin goal</b></td></tr><tr><td> </td><td> </td><td align=\"center\">13.3.<b>81</b> - 6.7.<b>43</b></td><td align=\"center\">13m 57s</td><td><b>David Cuningham goal</b></td></tr><tr><td>Trent Cotchin behind</td><td align=\"center\">18m 29s</td><td align=\"center\">13.4.<b>82</b> - 6.7.<b>43</b></td><td> </td><td> </td></tr><tr><td> </td><td> </td><td align=\"center\">13.4.<b>82</b> - 7.7.<b>49</b></td><td align=\"center\">20m 3s</td><td><b>Jack Martin goal</b></td></tr><tr><td><b>Dion Prestia goal</b></td><td align=\"center\">22m 22s</td><td align=\"center\">14.4.<b>88</b> - 7.7.<b>49</b></td><td> </td><td> </td></tr><tr><td><i>Rushed behind</i></td><td align=\"center\">23m 43s</td><td align=\"center\">14.5.<b>89</b> - 7.7.<b>49</b></td><td> </td><td> </td></tr><tr><td> </td><td> </td><td align=\"center\">14.5.<b>89</b> - 8.7.<b>55</b></td><td align=\"center\">25m 27s</td><td><b>Jack Martin goal</b></td></tr><tr><td align=\"center\" colspan=\"5\"><b>Final quarter (24m 54s)<tr><td> </td><td> </td><td align=\"center\">14.5.<b>89</b> - 9.7.<b>61</b></td><td align=\"center\">0m 54s</td><td><b>Levi Casboult goal</b></td></tr><tr><td> </td><td> </td><td align=\"center\">14.5.<b>89</b> - 9.8.<b>62</b></td><td align=\"center\">2m 4s</td><td>David Cuningham behind</td></tr><tr><td> </td><td> </td><td align=\"center\">14.5.<b>89</b> - 10.8.<b>68</b></td><td align=\"center\">4m 13s</td><td><b>Mitch McGovern goal</b></td></tr><tr><td> </td><td> </td><td align=\"center\">14.5.<b>89</b> - 11.8.<b>74</b></td><td align=\"center\">5m 46s</td><td><b>Jack Newnes goal</b></td></tr><tr><td>Dustin Martin behind</td><td align=\"center\">7m 1s</td><td align=\"center\">14.6.<b>90</b> - 11.8.<b>74</b></td><td> </td><td> </td></tr><tr><td><b>Shai Bolton goal</b></td><td align=\"center\">8m 57s</td><td align=\"center\">15.6.<b>96</b> - 11.8.<b>74</b></td><td> </td><td> </td></tr><tr><td>Ivan Soldo behind</td><td align=\"center\">11m 7s</td><td align=\"center\">15.7.<b>97</b> - 11.8.<b>74</b></td><td> </td><td> </td></tr><tr><td>Kane Lambert behind</td><td align=\"center\">12m 40s</td><td align=\"center\">15.8.<b>98</b> - 11.8.<b>74</b></td><td> </td><td> </td></tr><tr><td> </td><td> </td><td align=\"center\">15.8.<b>98</b> - 12.8.<b>80</b></td><td align=\"center\">17m 13s</td><td><b>Jack Silvagni goal</b></td></tr><tr><td> </td><td> </td><td align=\"center\">15.8.<b>98</b> - 12.9.<b>81</b></td><td align=\"center\">22m 34s</td><td>Liam Jones behind</td></tr><tr><td><b>Daniel Rioli goal</b></td><td align=\"center\">23m 47s</td><td align=\"center\">16.8.<b>104</b> - 12.9.<b>81</b></td><td> </td><td> </td></tr><tr><td>Shai Bolton behind</td><td align=\"center\">24m 49s</td><td align=\"center\">16.9.<b>105</b> - 12.9.<b>81</b></td><td> </td><td> </td></tr><tr><td> </td><td> </td><td align=\"center\"><b>Game time:104m 38s</b></td><td> </td><td> </td></tr></b></td></tr></b>,\n",
       " <b>69</b>,\n",
       " <b>29</b>,\n",
       " <b>Jack Martin goal</b>,\n",
       " <b>69</b>,\n",
       " <b>30</b>,\n",
       " <b>69</b>,\n",
       " <b>31</b>,\n",
       " <b>Jason Castagna goal</b>,\n",
       " <b>75</b>,\n",
       " <b>31</b>,\n",
       " <b>Daniel Rioli goal</b>,\n",
       " <b>81</b>,\n",
       " <b>31</b>,\n",
       " <b>81</b>,\n",
       " <b>37</b>,\n",
       " <b>Jack Martin goal</b>,\n",
       " <b>81</b>,\n",
       " <b>43</b>,\n",
       " <b>David Cuningham goal</b>,\n",
       " <b>82</b>,\n",
       " <b>43</b>,\n",
       " <b>82</b>,\n",
       " <b>49</b>,\n",
       " <b>Jack Martin goal</b>,\n",
       " <b>Dion Prestia goal</b>,\n",
       " <b>88</b>,\n",
       " <b>49</b>,\n",
       " <b>89</b>,\n",
       " <b>49</b>,\n",
       " <b>89</b>,\n",
       " <b>55</b>,\n",
       " <b>Jack Martin goal</b>,\n",
       " <b>Final quarter (24m 54s)<tr><td> </td><td> </td><td align=\"center\">14.5.<b>89</b> - 9.7.<b>61</b></td><td align=\"center\">0m 54s</td><td><b>Levi Casboult goal</b></td></tr><tr><td> </td><td> </td><td align=\"center\">14.5.<b>89</b> - 9.8.<b>62</b></td><td align=\"center\">2m 4s</td><td>David Cuningham behind</td></tr><tr><td> </td><td> </td><td align=\"center\">14.5.<b>89</b> - 10.8.<b>68</b></td><td align=\"center\">4m 13s</td><td><b>Mitch McGovern goal</b></td></tr><tr><td> </td><td> </td><td align=\"center\">14.5.<b>89</b> - 11.8.<b>74</b></td><td align=\"center\">5m 46s</td><td><b>Jack Newnes goal</b></td></tr><tr><td>Dustin Martin behind</td><td align=\"center\">7m 1s</td><td align=\"center\">14.6.<b>90</b> - 11.8.<b>74</b></td><td> </td><td> </td></tr><tr><td><b>Shai Bolton goal</b></td><td align=\"center\">8m 57s</td><td align=\"center\">15.6.<b>96</b> - 11.8.<b>74</b></td><td> </td><td> </td></tr><tr><td>Ivan Soldo behind</td><td align=\"center\">11m 7s</td><td align=\"center\">15.7.<b>97</b> - 11.8.<b>74</b></td><td> </td><td> </td></tr><tr><td>Kane Lambert behind</td><td align=\"center\">12m 40s</td><td align=\"center\">15.8.<b>98</b> - 11.8.<b>74</b></td><td> </td><td> </td></tr><tr><td> </td><td> </td><td align=\"center\">15.8.<b>98</b> - 12.8.<b>80</b></td><td align=\"center\">17m 13s</td><td><b>Jack Silvagni goal</b></td></tr><tr><td> </td><td> </td><td align=\"center\">15.8.<b>98</b> - 12.9.<b>81</b></td><td align=\"center\">22m 34s</td><td>Liam Jones behind</td></tr><tr><td><b>Daniel Rioli goal</b></td><td align=\"center\">23m 47s</td><td align=\"center\">16.8.<b>104</b> - 12.9.<b>81</b></td><td> </td><td> </td></tr><tr><td>Shai Bolton behind</td><td align=\"center\">24m 49s</td><td align=\"center\">16.9.<b>105</b> - 12.9.<b>81</b></td><td> </td><td> </td></tr><tr><td> </td><td> </td><td align=\"center\"><b>Game time:104m 38s</b></td><td> </td><td> </td></tr></b>,\n",
       " <b>89</b>,\n",
       " <b>61</b>,\n",
       " <b>Levi Casboult goal</b>,\n",
       " <b>89</b>,\n",
       " <b>62</b>,\n",
       " <b>89</b>,\n",
       " <b>68</b>,\n",
       " <b>Mitch McGovern goal</b>,\n",
       " <b>89</b>,\n",
       " <b>74</b>,\n",
       " <b>Jack Newnes goal</b>,\n",
       " <b>90</b>,\n",
       " <b>74</b>,\n",
       " <b>Shai Bolton goal</b>,\n",
       " <b>96</b>,\n",
       " <b>74</b>,\n",
       " <b>97</b>,\n",
       " <b>74</b>,\n",
       " <b>98</b>,\n",
       " <b>74</b>,\n",
       " <b>98</b>,\n",
       " <b>80</b>,\n",
       " <b>Jack Silvagni goal</b>,\n",
       " <b>98</b>,\n",
       " <b>81</b>,\n",
       " <b>Daniel Rioli goal</b>,\n",
       " <b>104</b>,\n",
       " <b>81</b>,\n",
       " <b>105</b>,\n",
       " <b>81</b>,\n",
       " <b>Game time:104m 38s</b>]"
      ]
     },
     "metadata": {},
     "execution_count": 18
    }
   ],
   "source": [
    "for i, line in enumerate(soup.find_all('b')):\n",
    "    if line.text == 'Totals':\n",
    "        print(i)"
   ]
  },
  {
   "cell_type": "code",
   "execution_count": 11,
   "metadata": {},
   "outputs": [],
   "source": [
    "stats = soup.find_all('b')[19:64]\n",
    "stats = [line.text for line in stats]"
   ]
  },
  {
   "cell_type": "code",
   "execution_count": 12,
   "metadata": {},
   "outputs": [],
   "source": [
    "home_stats = [int(stat) for stat in stats[1:23]]\n",
    "away_stats = [int(stat) for stat in stats[24:]]"
   ]
  },
  {
   "cell_type": "code",
   "execution_count": 13,
   "metadata": {},
   "outputs": [],
   "source": [
    "team_stats = {teams[0]: home_stats, teams[1]: away_stats}"
   ]
  },
  {
   "cell_type": "code",
   "execution_count": 14,
   "metadata": {},
   "outputs": [
    {
     "output_type": "execute_result",
     "data": {
      "text/plain": [
       "{'Richmond': [155,\n",
       "  57,\n",
       "  122,\n",
       "  277,\n",
       "  16,\n",
       "  9,\n",
       "  41,\n",
       "  52,\n",
       "  41,\n",
       "  48,\n",
       "  31,\n",
       "  50,\n",
       "  18,\n",
       "  24,\n",
       "  5,\n",
       "  109,\n",
       "  164,\n",
       "  10,\n",
       "  12,\n",
       "  48,\n",
       "  5,\n",
       "  12],\n",
       " 'Carlton': [189,\n",
       "  69,\n",
       "  114,\n",
       "  303,\n",
       "  12,\n",
       "  9,\n",
       "  26,\n",
       "  23,\n",
       "  29,\n",
       "  54,\n",
       "  32,\n",
       "  51,\n",
       "  24,\n",
       "  18,\n",
       "  1,\n",
       "  126,\n",
       "  173,\n",
       "  7,\n",
       "  12,\n",
       "  44,\n",
       "  5]}"
      ]
     },
     "metadata": {},
     "execution_count": 14
    }
   ],
   "source": [
    "team_stats"
   ]
  },
  {
   "cell_type": "code",
   "execution_count": null,
   "metadata": {},
   "outputs": [],
   "source": []
  },
  {
   "cell_type": "code",
   "execution_count": null,
   "metadata": {},
   "outputs": [],
   "source": []
  }
 ]
}