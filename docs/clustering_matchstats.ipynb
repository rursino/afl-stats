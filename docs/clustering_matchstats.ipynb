{
 "metadata": {
  "language_info": {
   "codemirror_mode": {
    "name": "ipython",
    "version": 3
   },
   "file_extension": ".py",
   "mimetype": "text/x-python",
   "name": "python",
   "nbconvert_exporter": "python",
   "pygments_lexer": "ipython3",
   "version": "3.7.6-final"
  },
  "orig_nbformat": 2,
  "kernelspec": {
   "name": "python3",
   "display_name": "Python 3.7.6 64-bit ('aflstats_venv')",
   "metadata": {
    "interpreter": {
     "hash": "7f14c6f9a1b9b003b939c5290abd2184a1eee089da2f4478428a0fc0ea95394a"
    }
   }
  }
 },
 "nbformat": 4,
 "nbformat_minor": 2,
 "cells": [
  {
   "cell_type": "code",
   "execution_count": 1,
   "metadata": {},
   "outputs": [],
   "source": [
    "import requests\n",
    "from bs4 import BeautifulSoup as bs"
   ]
  },
  {
   "cell_type": "code",
   "execution_count": 11,
   "metadata": {},
   "outputs": [],
   "source": [
    "season_games_url = \"https://afltables.com/afl/seas/2020.html\"\n",
    "test_match_url = \"https://afltables.com/afl/stats/games/2020/031420200319.html#prog\""
   ]
  },
  {
   "cell_type": "code",
   "execution_count": 12,
   "metadata": {},
   "outputs": [],
   "source": [
    "spage = requests.get(season_games_url)\n",
    "ssoup = bs(spage.content)"
   ]
  },
  {
   "cell_type": "code",
   "execution_count": 56,
   "metadata": {},
   "outputs": [
    {
     "output_type": "stream",
     "name": "stdout",
     "text": [
      "Round 1\nRound 2\nRound 3\nRound 4\nRound 5\nRound 6\nRound 7\nRound 8\nRound 9\nRound 10\nRound 11\nRound 12\nRound 13\nRound 14\nRound 15\nRound 16\nRound 17\nRound 18\n"
     ]
    }
   ],
   "source": [
    "round_num = 1\n",
    "for line in ssoup.find_all('table'):\n",
    "    round_str = line.text.split('Rnd')[0]\n",
    "    if round_str == f'Round {round_num}':\n",
    "        print(round_str)\n",
    "        round_num += 1"
   ]
  },
  {
   "cell_type": "code",
   "execution_count": 105,
   "metadata": {},
   "outputs": [
    {
     "output_type": "stream",
     "name": "stdout",
     "text": [
      "West Coast\n12\n6\n78\nMelbourne\n7\n9\n51\n../stats/games/2020/111820200322.html\n"
     ]
    }
   ],
   "source": [
    "result = ssoup.find_all('table')[0+10].find_all('td')\n",
    "print(result[0].text)\n",
    "score_home = result[1].text.strip().split()[-1].split('.')\n",
    "print(score_home[0])\n",
    "print(score_home[1])\n",
    "print(result[2].text.strip())\n",
    "print(result[4].text)\n",
    "score_away = result[5].text.strip().split()[-1].split('.')\n",
    "print(score_away[0])\n",
    "print(score_away[1])\n",
    "print(result[6].text.strip())\n",
    "print(result[7].find('a')['href'])"
   ]
  },
  {
   "cell_type": "code",
   "execution_count": 128,
   "metadata": {},
   "outputs": [
    {
     "output_type": "execute_result",
     "data": {
      "text/plain": [
       "8"
      ]
     },
     "metadata": {},
     "execution_count": 128
    }
   ],
   "source": [
    "result = ssoup.find_all('table')[0+3].find_all('td')\n",
    "len(result)\n",
    "# score_home = result[1].text.strip().split()[-1].split('.')\n",
    "# score_away = result[5].text.strip().split()[-1].split('.')\n",
    "# {\n",
    "#     result[0].text: (int(score_home[0]), int(score_home[1]), int(result[2].text.strip())),\n",
    "#     result[4].text: (int(score_away[0]), int(score_away[1]), int(result[6].text.strip())),\n",
    "#     'stats_link': \"https://afltables.com/afl/\" + result[7].find('a')['href'][3:]\n",
    "# }"
   ]
  },
  {
   "cell_type": "code",
   "execution_count": 3,
   "metadata": {},
   "outputs": [],
   "source": [
    "page = requests.get(test_match_url)\n",
    "soup = bs(page.content)"
   ]
  },
  {
   "cell_type": "code",
   "execution_count": 4,
   "metadata": {},
   "outputs": [],
   "source": [
    "relevant_headings = ['KI', 'MK', 'HB', 'DI', 'GL', 'BH', 'HO', 'TK', 'RB', 'IF', 'CL', 'CG', 'FF', 'FA']"
   ]
  },
  {
   "cell_type": "code",
   "execution_count": 5,
   "metadata": {},
   "outputs": [
    {
     "output_type": "execute_result",
     "data": {
      "text/plain": [
       "{0: 'KI',\n",
       " 1: 'MK',\n",
       " 2: 'HB',\n",
       " 3: 'DI',\n",
       " 4: 'GL',\n",
       " 5: 'BH',\n",
       " 6: 'HO',\n",
       " 7: 'TK',\n",
       " 8: 'RB',\n",
       " 9: 'IF',\n",
       " 10: 'CL',\n",
       " 11: 'CG',\n",
       " 12: 'FF',\n",
       " 13: 'FA'}"
      ]
     },
     "metadata": {},
     "execution_count": 5
    }
   ],
   "source": [
    "in_heading = False\n",
    "headings = []\n",
    "for line in soup.find_all('th'):\n",
    "    if line.text == 'KI':\n",
    "        in_heading = True\n",
    "    if in_heading:\n",
    "        headings.append(line.text)\n",
    "        if line.text == '%P':\n",
    "            break\n",
    "\n",
    "headings_dict = {}\n",
    "for i, heading in enumerate(headings):\n",
    "    if heading in relevant_headings:\n",
    "        headings_dict[i] = heading\n",
    "\n",
    "headings_dict"
   ]
  },
  {
   "cell_type": "code",
   "execution_count": 6,
   "metadata": {},
   "outputs": [],
   "source": [
    "teams = soup.title.text.split(' - ')[1].split(' v ')"
   ]
  },
  {
   "cell_type": "code",
   "execution_count": 7,
   "metadata": {},
   "outputs": [],
   "source": [
    "stats = soup.find_all('b')[19:64]\n",
    "stats = [line.text for line in stats]"
   ]
  },
  {
   "cell_type": "code",
   "execution_count": 8,
   "metadata": {},
   "outputs": [],
   "source": [
    "home_stats = [int(stat) for stat in stats[1:23]]\n",
    "away_stats = [int(stat) for stat in stats[24:]]"
   ]
  },
  {
   "cell_type": "code",
   "execution_count": 9,
   "metadata": {},
   "outputs": [],
   "source": [
    "team_stats = {teams[0]: home_stats, teams[1]: away_stats}"
   ]
  },
  {
   "cell_type": "code",
   "execution_count": 10,
   "metadata": {},
   "outputs": [
    {
     "output_type": "execute_result",
     "data": {
      "text/plain": [
       "{'Home': ('Richmond',\n",
       "  [155,\n",
       "   57,\n",
       "   122,\n",
       "   277,\n",
       "   16,\n",
       "   9,\n",
       "   41,\n",
       "   52,\n",
       "   41,\n",
       "   48,\n",
       "   31,\n",
       "   50,\n",
       "   18,\n",
       "   24,\n",
       "   5,\n",
       "   109,\n",
       "   164,\n",
       "   10,\n",
       "   12,\n",
       "   48,\n",
       "   5,\n",
       "   12]),\n",
       " 'Away': ('Carlton',\n",
       "  [189,\n",
       "   69,\n",
       "   114,\n",
       "   303,\n",
       "   12,\n",
       "   9,\n",
       "   26,\n",
       "   23,\n",
       "   29,\n",
       "   54,\n",
       "   32,\n",
       "   51,\n",
       "   24,\n",
       "   18,\n",
       "   1,\n",
       "   126,\n",
       "   173,\n",
       "   7,\n",
       "   12,\n",
       "   44,\n",
       "   5])}"
      ]
     },
     "metadata": {},
     "execution_count": 10
    }
   ],
   "source": [
    "team_stats"
   ]
  },
  {
   "cell_type": "code",
   "execution_count": null,
   "metadata": {},
   "outputs": [],
   "source": []
  }
 ]
}